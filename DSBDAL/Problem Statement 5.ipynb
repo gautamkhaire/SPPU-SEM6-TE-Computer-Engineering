{
 "cells": [
  {
   "cell_type": "markdown",
   "id": "c9ee4ac5",
   "metadata": {},
   "source": [
    "## Assignment A3- Descriptive Statistics - Measures of Central Tendency and variability"
   ]
  },
  {
   "cell_type": "code",
   "execution_count": 2,
   "id": "fe5bccb4",
   "metadata": {},
   "outputs": [],
   "source": [
    "#importing libraries \n",
    "import pandas as pd \n",
    "import numpy as np\n",
    "import matplotlib.pyplot as plt"
   ]
  },
  {
   "cell_type": "markdown",
   "id": "051e76c4",
   "metadata": {},
   "source": [
    "### Part 1: Summary statistics"
   ]
  },
  {
   "cell_type": "code",
   "execution_count": 2,
   "id": "7f1585f5",
   "metadata": {},
   "outputs": [
    {
     "data": {
      "text/html": [
       "<div>\n",
       "<style scoped>\n",
       "    .dataframe tbody tr th:only-of-type {\n",
       "        vertical-align: middle;\n",
       "    }\n",
       "\n",
       "    .dataframe tbody tr th {\n",
       "        vertical-align: top;\n",
       "    }\n",
       "\n",
       "    .dataframe thead th {\n",
       "        text-align: right;\n",
       "    }\n",
       "</style>\n",
       "<table border=\"1\" class=\"dataframe\">\n",
       "  <thead>\n",
       "    <tr style=\"text-align: right;\">\n",
       "      <th></th>\n",
       "      <th>Name</th>\n",
       "      <th>Team</th>\n",
       "      <th>Number</th>\n",
       "      <th>Position</th>\n",
       "      <th>Age</th>\n",
       "      <th>Height</th>\n",
       "      <th>Weight</th>\n",
       "      <th>College</th>\n",
       "      <th>Salary</th>\n",
       "    </tr>\n",
       "  </thead>\n",
       "  <tbody>\n",
       "    <tr>\n",
       "      <th>0</th>\n",
       "      <td>Avery Bradley</td>\n",
       "      <td>Boston Celtics</td>\n",
       "      <td>0.0</td>\n",
       "      <td>PG</td>\n",
       "      <td>25.0</td>\n",
       "      <td>6-2</td>\n",
       "      <td>180.0</td>\n",
       "      <td>Texas</td>\n",
       "      <td>7730337.0</td>\n",
       "    </tr>\n",
       "    <tr>\n",
       "      <th>1</th>\n",
       "      <td>Jae Crowder</td>\n",
       "      <td>Boston Celtics</td>\n",
       "      <td>99.0</td>\n",
       "      <td>SF</td>\n",
       "      <td>25.0</td>\n",
       "      <td>6-6</td>\n",
       "      <td>235.0</td>\n",
       "      <td>Marquette</td>\n",
       "      <td>6796117.0</td>\n",
       "    </tr>\n",
       "    <tr>\n",
       "      <th>2</th>\n",
       "      <td>John Holland</td>\n",
       "      <td>Boston Celtics</td>\n",
       "      <td>30.0</td>\n",
       "      <td>SG</td>\n",
       "      <td>27.0</td>\n",
       "      <td>6-5</td>\n",
       "      <td>205.0</td>\n",
       "      <td>Boston University</td>\n",
       "      <td>NaN</td>\n",
       "    </tr>\n",
       "    <tr>\n",
       "      <th>3</th>\n",
       "      <td>R.J. Hunter</td>\n",
       "      <td>Boston Celtics</td>\n",
       "      <td>28.0</td>\n",
       "      <td>SG</td>\n",
       "      <td>22.0</td>\n",
       "      <td>6-5</td>\n",
       "      <td>185.0</td>\n",
       "      <td>Georgia State</td>\n",
       "      <td>1148640.0</td>\n",
       "    </tr>\n",
       "    <tr>\n",
       "      <th>4</th>\n",
       "      <td>Jonas Jerebko</td>\n",
       "      <td>Boston Celtics</td>\n",
       "      <td>8.0</td>\n",
       "      <td>PF</td>\n",
       "      <td>29.0</td>\n",
       "      <td>6-10</td>\n",
       "      <td>231.0</td>\n",
       "      <td>NaN</td>\n",
       "      <td>5000000.0</td>\n",
       "    </tr>\n",
       "  </tbody>\n",
       "</table>\n",
       "</div>"
      ],
      "text/plain": [
       "            Name            Team  Number Position   Age Height  Weight  \\\n",
       "0  Avery Bradley  Boston Celtics     0.0       PG  25.0    6-2   180.0   \n",
       "1    Jae Crowder  Boston Celtics    99.0       SF  25.0    6-6   235.0   \n",
       "2   John Holland  Boston Celtics    30.0       SG  27.0    6-5   205.0   \n",
       "3    R.J. Hunter  Boston Celtics    28.0       SG  22.0    6-5   185.0   \n",
       "4  Jonas Jerebko  Boston Celtics     8.0       PF  29.0   6-10   231.0   \n",
       "\n",
       "             College     Salary  \n",
       "0              Texas  7730337.0  \n",
       "1          Marquette  6796117.0  \n",
       "2  Boston University        NaN  \n",
       "3      Georgia State  1148640.0  \n",
       "4                NaN  5000000.0  "
      ]
     },
     "execution_count": 2,
     "metadata": {},
     "output_type": "execute_result"
    }
   ],
   "source": [
    "data = pd.read_csv('nba.csv')\n",
    "data.head()"
   ]
  },
  {
   "cell_type": "markdown",
   "id": "ca58949a",
   "metadata": {},
   "source": [
    "#### Decription of dataset:\n",
    "The given dataset contains player data for different NBA teams. Different atrributes included in the dataset are:\n",
    "1. Name and Team with number\n",
    "2. Position\n",
    "3. Age\n",
    "4. Height\n",
    "5. Weight\n",
    "6. College and Salary"
   ]
  },
  {
   "cell_type": "code",
   "execution_count": 3,
   "id": "c779ff8c",
   "metadata": {},
   "outputs": [
    {
     "data": {
      "text/html": [
       "<div>\n",
       "<style scoped>\n",
       "    .dataframe tbody tr th:only-of-type {\n",
       "        vertical-align: middle;\n",
       "    }\n",
       "\n",
       "    .dataframe tbody tr th {\n",
       "        vertical-align: top;\n",
       "    }\n",
       "\n",
       "    .dataframe thead th {\n",
       "        text-align: right;\n",
       "    }\n",
       "</style>\n",
       "<table border=\"1\" class=\"dataframe\">\n",
       "  <thead>\n",
       "    <tr style=\"text-align: right;\">\n",
       "      <th></th>\n",
       "      <th>Number</th>\n",
       "      <th>Age</th>\n",
       "      <th>Weight</th>\n",
       "      <th>Salary</th>\n",
       "    </tr>\n",
       "  </thead>\n",
       "  <tbody>\n",
       "    <tr>\n",
       "      <th>count</th>\n",
       "      <td>457.000000</td>\n",
       "      <td>457.000000</td>\n",
       "      <td>457.000000</td>\n",
       "      <td>4.460000e+02</td>\n",
       "    </tr>\n",
       "    <tr>\n",
       "      <th>mean</th>\n",
       "      <td>17.678337</td>\n",
       "      <td>26.938731</td>\n",
       "      <td>221.522976</td>\n",
       "      <td>4.842684e+06</td>\n",
       "    </tr>\n",
       "    <tr>\n",
       "      <th>std</th>\n",
       "      <td>15.966090</td>\n",
       "      <td>4.404016</td>\n",
       "      <td>26.368343</td>\n",
       "      <td>5.229238e+06</td>\n",
       "    </tr>\n",
       "    <tr>\n",
       "      <th>min</th>\n",
       "      <td>0.000000</td>\n",
       "      <td>19.000000</td>\n",
       "      <td>161.000000</td>\n",
       "      <td>3.088800e+04</td>\n",
       "    </tr>\n",
       "    <tr>\n",
       "      <th>25%</th>\n",
       "      <td>5.000000</td>\n",
       "      <td>24.000000</td>\n",
       "      <td>200.000000</td>\n",
       "      <td>1.044792e+06</td>\n",
       "    </tr>\n",
       "    <tr>\n",
       "      <th>50%</th>\n",
       "      <td>13.000000</td>\n",
       "      <td>26.000000</td>\n",
       "      <td>220.000000</td>\n",
       "      <td>2.839073e+06</td>\n",
       "    </tr>\n",
       "    <tr>\n",
       "      <th>75%</th>\n",
       "      <td>25.000000</td>\n",
       "      <td>30.000000</td>\n",
       "      <td>240.000000</td>\n",
       "      <td>6.500000e+06</td>\n",
       "    </tr>\n",
       "    <tr>\n",
       "      <th>max</th>\n",
       "      <td>99.000000</td>\n",
       "      <td>40.000000</td>\n",
       "      <td>307.000000</td>\n",
       "      <td>2.500000e+07</td>\n",
       "    </tr>\n",
       "  </tbody>\n",
       "</table>\n",
       "</div>"
      ],
      "text/plain": [
       "           Number         Age      Weight        Salary\n",
       "count  457.000000  457.000000  457.000000  4.460000e+02\n",
       "mean    17.678337   26.938731  221.522976  4.842684e+06\n",
       "std     15.966090    4.404016   26.368343  5.229238e+06\n",
       "min      0.000000   19.000000  161.000000  3.088800e+04\n",
       "25%      5.000000   24.000000  200.000000  1.044792e+06\n",
       "50%     13.000000   26.000000  220.000000  2.839073e+06\n",
       "75%     25.000000   30.000000  240.000000  6.500000e+06\n",
       "max     99.000000   40.000000  307.000000  2.500000e+07"
      ]
     },
     "execution_count": 3,
     "metadata": {},
     "output_type": "execute_result"
    }
   ],
   "source": [
    "data.describe()"
   ]
  },
  {
   "cell_type": "code",
   "execution_count": 5,
   "id": "8ad757f5",
   "metadata": {},
   "outputs": [
    {
     "name": "stdout",
     "output_type": "stream",
     "text": [
      "Mean of age: 26.938730853391686\n",
      "Mean of salary: 4842684.105381166\n"
     ]
    }
   ],
   "source": [
    "# Mean values\n",
    "print(\"Mean of age:\",data[\"Age\"].mean())\n",
    "print(\"Mean of salary:\",data[\"Salary\"].mean())"
   ]
  },
  {
   "cell_type": "code",
   "execution_count": 8,
   "id": "fa69d5f8",
   "metadata": {},
   "outputs": [
    {
     "name": "stdout",
     "output_type": "stream",
     "text": [
      "Median of age: 26.0\n",
      "Median of salary: 2839073.0\n"
     ]
    }
   ],
   "source": [
    "# Median values\n",
    "print(\"Median of age:\",data[\"Age\"].median())\n",
    "print(\"Median of salary:\",data[\"Salary\"].median())"
   ]
  },
  {
   "cell_type": "code",
   "execution_count": 10,
   "id": "7f0907c9",
   "metadata": {},
   "outputs": [
    {
     "name": "stdout",
     "output_type": "stream",
     "text": [
      "Standard deviation of age: 4.404016424405833\n",
      "Standard deviation of salary: 5229237.598910348\n"
     ]
    }
   ],
   "source": [
    "# Standard deviation values\n",
    "print(\"Standard deviation of age:\",data[\"Age\"].std())\n",
    "print(\"Standard deviation of salary:\",data[\"Salary\"].std())"
   ]
  },
  {
   "cell_type": "markdown",
   "id": "8c51d930",
   "metadata": {},
   "source": [
    "### Grouping by categorical variable"
   ]
  },
  {
   "cell_type": "code",
   "execution_count": 26,
   "id": "4d6d109f",
   "metadata": {},
   "outputs": [
    {
     "data": {
      "text/html": [
       "<div>\n",
       "<style scoped>\n",
       "    .dataframe tbody tr th:only-of-type {\n",
       "        vertical-align: middle;\n",
       "    }\n",
       "\n",
       "    .dataframe tbody tr th {\n",
       "        vertical-align: top;\n",
       "    }\n",
       "\n",
       "    .dataframe thead th {\n",
       "        text-align: right;\n",
       "    }\n",
       "</style>\n",
       "<table border=\"1\" class=\"dataframe\">\n",
       "  <thead>\n",
       "    <tr style=\"text-align: right;\">\n",
       "      <th></th>\n",
       "      <th>Number</th>\n",
       "      <th>Age</th>\n",
       "      <th>Weight</th>\n",
       "      <th>Salary</th>\n",
       "    </tr>\n",
       "    <tr>\n",
       "      <th>Age</th>\n",
       "      <th></th>\n",
       "      <th></th>\n",
       "      <th></th>\n",
       "      <th></th>\n",
       "    </tr>\n",
       "  </thead>\n",
       "  <tbody>\n",
       "    <tr>\n",
       "      <th>(15, 20]</th>\n",
       "      <td>348.0</td>\n",
       "      <td>418.0</td>\n",
       "      <td>4659.0</td>\n",
       "      <td>5.565091e+07</td>\n",
       "    </tr>\n",
       "    <tr>\n",
       "      <th>(20, 25]</th>\n",
       "      <td>3198.0</td>\n",
       "      <td>4167.0</td>\n",
       "      <td>38635.0</td>\n",
       "      <td>5.232390e+08</td>\n",
       "    </tr>\n",
       "    <tr>\n",
       "      <th>(25, 30]</th>\n",
       "      <td>2846.0</td>\n",
       "      <td>4653.0</td>\n",
       "      <td>37364.0</td>\n",
       "      <td>1.047480e+09</td>\n",
       "    </tr>\n",
       "    <tr>\n",
       "      <th>(30, 35]</th>\n",
       "      <td>1188.0</td>\n",
       "      <td>2215.0</td>\n",
       "      <td>15431.0</td>\n",
       "      <td>4.463557e+08</td>\n",
       "    </tr>\n",
       "    <tr>\n",
       "      <th>(35, 40]</th>\n",
       "      <td>499.0</td>\n",
       "      <td>858.0</td>\n",
       "      <td>5147.0</td>\n",
       "      <td>8.711119e+07</td>\n",
       "    </tr>\n",
       "  </tbody>\n",
       "</table>\n",
       "</div>"
      ],
      "text/plain": [
       "          Number     Age   Weight        Salary\n",
       "Age                                            \n",
       "(15, 20]   348.0   418.0   4659.0  5.565091e+07\n",
       "(20, 25]  3198.0  4167.0  38635.0  5.232390e+08\n",
       "(25, 30]  2846.0  4653.0  37364.0  1.047480e+09\n",
       "(30, 35]  1188.0  2215.0  15431.0  4.463557e+08\n",
       "(35, 40]   499.0   858.0   5147.0  8.711119e+07"
      ]
     },
     "execution_count": 26,
     "metadata": {},
     "output_type": "execute_result"
    }
   ],
   "source": [
    "group=data.groupby(pd.cut(data[\"Age\"], np.arange(15, 45, 5))).sum()\n",
    "group"
   ]
  },
  {
   "cell_type": "code",
   "execution_count": 1,
   "id": "13b70b67",
   "metadata": {},
   "outputs": [
    {
     "ename": "NameError",
     "evalue": "name 'data' is not defined",
     "output_type": "error",
     "traceback": [
      "\u001b[1;31m---------------------------------------------------------------------------\u001b[0m",
      "\u001b[1;31mNameError\u001b[0m                                 Traceback (most recent call last)",
      "Cell \u001b[1;32mIn[1], line 1\u001b[0m\n\u001b[1;32m----> 1\u001b[0m group\u001b[38;5;241m=\u001b[39m\u001b[43mdata\u001b[49m\u001b[38;5;241m.\u001b[39mgroupby(pd\u001b[38;5;241m.\u001b[39mcut(data[\u001b[38;5;124m\"\u001b[39m\u001b[38;5;124mAge\u001b[39m\u001b[38;5;124m\"\u001b[39m], np\u001b[38;5;241m.\u001b[39marange(\u001b[38;5;241m15\u001b[39m, \u001b[38;5;241m45\u001b[39m, \u001b[38;5;241m5\u001b[39m)))\u001b[38;5;241m.\u001b[39mmean()\n\u001b[0;32m      2\u001b[0m group\n",
      "\u001b[1;31mNameError\u001b[0m: name 'data' is not defined"
     ]
    }
   ],
   "source": [
    "group=data.groupby(pd.cut(data[\"Age\"], np.arange(15, 45, 5))).mean()\n",
    "group"
   ]
  },
  {
   "cell_type": "code",
   "execution_count": 30,
   "id": "4f6f0959",
   "metadata": {},
   "outputs": [
    {
     "data": {
      "text/html": [
       "<div>\n",
       "<style scoped>\n",
       "    .dataframe tbody tr th:only-of-type {\n",
       "        vertical-align: middle;\n",
       "    }\n",
       "\n",
       "    .dataframe tbody tr th {\n",
       "        vertical-align: top;\n",
       "    }\n",
       "\n",
       "    .dataframe thead th {\n",
       "        text-align: right;\n",
       "    }\n",
       "</style>\n",
       "<table border=\"1\" class=\"dataframe\">\n",
       "  <thead>\n",
       "    <tr style=\"text-align: right;\">\n",
       "      <th></th>\n",
       "      <th>Number</th>\n",
       "      <th>Age</th>\n",
       "      <th>Weight</th>\n",
       "      <th>Salary</th>\n",
       "    </tr>\n",
       "  </thead>\n",
       "  <tbody>\n",
       "    <tr>\n",
       "      <th>count</th>\n",
       "      <td>5.000000</td>\n",
       "      <td>5.000000</td>\n",
       "      <td>5.000000</td>\n",
       "      <td>5.000000e+00</td>\n",
       "    </tr>\n",
       "    <tr>\n",
       "      <th>mean</th>\n",
       "      <td>1615.800000</td>\n",
       "      <td>2462.200000</td>\n",
       "      <td>20247.200000</td>\n",
       "      <td>4.319674e+08</td>\n",
       "    </tr>\n",
       "    <tr>\n",
       "      <th>std</th>\n",
       "      <td>1327.998569</td>\n",
       "      <td>1905.207784</td>\n",
       "      <td>16772.744504</td>\n",
       "      <td>4.024716e+08</td>\n",
       "    </tr>\n",
       "    <tr>\n",
       "      <th>min</th>\n",
       "      <td>348.000000</td>\n",
       "      <td>418.000000</td>\n",
       "      <td>4659.000000</td>\n",
       "      <td>5.565091e+07</td>\n",
       "    </tr>\n",
       "    <tr>\n",
       "      <th>25%</th>\n",
       "      <td>499.000000</td>\n",
       "      <td>858.000000</td>\n",
       "      <td>5147.000000</td>\n",
       "      <td>8.711119e+07</td>\n",
       "    </tr>\n",
       "    <tr>\n",
       "      <th>50%</th>\n",
       "      <td>1188.000000</td>\n",
       "      <td>2215.000000</td>\n",
       "      <td>15431.000000</td>\n",
       "      <td>4.463557e+08</td>\n",
       "    </tr>\n",
       "    <tr>\n",
       "      <th>75%</th>\n",
       "      <td>2846.000000</td>\n",
       "      <td>4167.000000</td>\n",
       "      <td>37364.000000</td>\n",
       "      <td>5.232390e+08</td>\n",
       "    </tr>\n",
       "    <tr>\n",
       "      <th>max</th>\n",
       "      <td>3198.000000</td>\n",
       "      <td>4653.000000</td>\n",
       "      <td>38635.000000</td>\n",
       "      <td>1.047480e+09</td>\n",
       "    </tr>\n",
       "  </tbody>\n",
       "</table>\n",
       "</div>"
      ],
      "text/plain": [
       "            Number          Age        Weight        Salary\n",
       "count     5.000000     5.000000      5.000000  5.000000e+00\n",
       "mean   1615.800000  2462.200000  20247.200000  4.319674e+08\n",
       "std    1327.998569  1905.207784  16772.744504  4.024716e+08\n",
       "min     348.000000   418.000000   4659.000000  5.565091e+07\n",
       "25%     499.000000   858.000000   5147.000000  8.711119e+07\n",
       "50%    1188.000000  2215.000000  15431.000000  4.463557e+08\n",
       "75%    2846.000000  4167.000000  37364.000000  5.232390e+08\n",
       "max    3198.000000  4653.000000  38635.000000  1.047480e+09"
      ]
     },
     "execution_count": 30,
     "metadata": {},
     "output_type": "execute_result"
    }
   ],
   "source": [
    "#summary stats of grouped data\n",
    "group.describe()"
   ]
  },
  {
   "cell_type": "code",
   "execution_count": 67,
   "id": "a7883754",
   "metadata": {},
   "outputs": [
    {
     "data": {
      "text/html": [
       "<div>\n",
       "<style scoped>\n",
       "    .dataframe tbody tr th:only-of-type {\n",
       "        vertical-align: middle;\n",
       "    }\n",
       "\n",
       "    .dataframe tbody tr th {\n",
       "        vertical-align: top;\n",
       "    }\n",
       "\n",
       "    .dataframe thead th {\n",
       "        text-align: right;\n",
       "    }\n",
       "</style>\n",
       "<table border=\"1\" class=\"dataframe\">\n",
       "  <thead>\n",
       "    <tr style=\"text-align: right;\">\n",
       "      <th></th>\n",
       "      <th>level_0</th>\n",
       "      <th>index</th>\n",
       "      <th>Number</th>\n",
       "      <th>Age</th>\n",
       "      <th>Weight</th>\n",
       "      <th>Salary</th>\n",
       "    </tr>\n",
       "  </thead>\n",
       "  <tbody>\n",
       "    <tr>\n",
       "      <th>0</th>\n",
       "      <td>0</td>\n",
       "      <td>(15, 20]</td>\n",
       "      <td>348.0</td>\n",
       "      <td>418.0</td>\n",
       "      <td>4659.0</td>\n",
       "      <td>5.565091e+07</td>\n",
       "    </tr>\n",
       "    <tr>\n",
       "      <th>1</th>\n",
       "      <td>1</td>\n",
       "      <td>(20, 25]</td>\n",
       "      <td>3198.0</td>\n",
       "      <td>4167.0</td>\n",
       "      <td>38635.0</td>\n",
       "      <td>5.232390e+08</td>\n",
       "    </tr>\n",
       "    <tr>\n",
       "      <th>2</th>\n",
       "      <td>2</td>\n",
       "      <td>(25, 30]</td>\n",
       "      <td>2846.0</td>\n",
       "      <td>4653.0</td>\n",
       "      <td>37364.0</td>\n",
       "      <td>1.047480e+09</td>\n",
       "    </tr>\n",
       "    <tr>\n",
       "      <th>3</th>\n",
       "      <td>3</td>\n",
       "      <td>(30, 35]</td>\n",
       "      <td>1188.0</td>\n",
       "      <td>2215.0</td>\n",
       "      <td>15431.0</td>\n",
       "      <td>4.463557e+08</td>\n",
       "    </tr>\n",
       "    <tr>\n",
       "      <th>4</th>\n",
       "      <td>4</td>\n",
       "      <td>(35, 40]</td>\n",
       "      <td>499.0</td>\n",
       "      <td>858.0</td>\n",
       "      <td>5147.0</td>\n",
       "      <td>8.711119e+07</td>\n",
       "    </tr>\n",
       "  </tbody>\n",
       "</table>\n",
       "</div>"
      ],
      "text/plain": [
       "   level_0     index  Number     Age   Weight        Salary\n",
       "0        0  (15, 20]   348.0   418.0   4659.0  5.565091e+07\n",
       "1        1  (20, 25]  3198.0  4167.0  38635.0  5.232390e+08\n",
       "2        2  (25, 30]  2846.0  4653.0  37364.0  1.047480e+09\n",
       "3        3  (30, 35]  1188.0  2215.0  15431.0  4.463557e+08\n",
       "4        4  (35, 40]   499.0   858.0   5147.0  8.711119e+07"
      ]
     },
     "execution_count": 67,
     "metadata": {},
     "output_type": "execute_result"
    }
   ],
   "source": [
    "group=group.reset_index()"
   ]
  },
  {
   "cell_type": "code",
   "execution_count": 87,
   "id": "11f81607",
   "metadata": {},
   "outputs": [
    {
     "data": {
      "text/plain": [
       "{Interval(15, 20, closed='right'): 55650906.0,\n",
       " Interval(20, 25, closed='right'): 523239046.0,\n",
       " Interval(25, 30, closed='right'): 1047480226.0,\n",
       " Interval(30, 35, closed='right'): 446355744.0,\n",
       " Interval(35, 40, closed='right'): 87111189.0}"
      ]
     },
     "execution_count": 87,
     "metadata": {},
     "output_type": "execute_result"
    }
   ],
   "source": [
    "list1={}\n",
    "for i in range(0,len(group)):\n",
    "    list1[group[\"index\"][i]]=group[\"Salary\"][i]\n",
    "list1"
   ]
  },
  {
   "cell_type": "markdown",
   "id": "6642f543",
   "metadata": {},
   "source": [
    "### Part 2: Analysis of iris dataset"
   ]
  },
  {
   "cell_type": "code",
   "execution_count": 13,
   "id": "34d1dc2d",
   "metadata": {},
   "outputs": [
    {
     "name": "stdout",
     "output_type": "stream",
     "text": [
      "Iris-setosa\n",
      "             Id  SepalLengthCm  SepalWidthCm  PetalLengthCm  PetalWidthCm\n",
      "count  50.00000       50.00000     50.000000      50.000000      50.00000\n",
      "mean   25.50000        5.00600      3.418000       1.464000       0.24400\n",
      "std    14.57738        0.35249      0.381024       0.173511       0.10721\n",
      "min     1.00000        4.30000      2.300000       1.000000       0.10000\n",
      "25%    13.25000        4.80000      3.125000       1.400000       0.20000\n",
      "50%    25.50000        5.00000      3.400000       1.500000       0.20000\n",
      "75%    37.75000        5.20000      3.675000       1.575000       0.30000\n",
      "max    50.00000        5.80000      4.400000       1.900000       0.60000\n",
      "\n",
      "Iris-versicolor\n",
      "              Id  SepalLengthCm  SepalWidthCm  PetalLengthCm  PetalWidthCm\n",
      "count   50.00000      50.000000     50.000000      50.000000     50.000000\n",
      "mean    75.50000       5.936000      2.770000       4.260000      1.326000\n",
      "std     14.57738       0.516171      0.313798       0.469911      0.197753\n",
      "min     51.00000       4.900000      2.000000       3.000000      1.000000\n",
      "25%     63.25000       5.600000      2.525000       4.000000      1.200000\n",
      "50%     75.50000       5.900000      2.800000       4.350000      1.300000\n",
      "75%     87.75000       6.300000      3.000000       4.600000      1.500000\n",
      "max    100.00000       7.000000      3.400000       5.100000      1.800000\n",
      "\n",
      "Iris-virginica\n",
      "              Id  SepalLengthCm  SepalWidthCm  PetalLengthCm  PetalWidthCm\n",
      "count   50.00000       50.00000     50.000000      50.000000      50.00000\n",
      "mean   125.50000        6.58800      2.974000       5.552000       2.02600\n",
      "std     14.57738        0.63588      0.322497       0.551895       0.27465\n",
      "min    101.00000        4.90000      2.200000       4.500000       1.40000\n",
      "25%    113.25000        6.22500      2.800000       5.100000       1.80000\n",
      "50%    125.50000        6.50000      3.000000       5.550000       2.00000\n",
      "75%    137.75000        6.90000      3.175000       5.875000       2.30000\n",
      "max    150.00000        7.90000      3.800000       6.900000       2.50000\n"
     ]
    }
   ],
   "source": [
    "data = pd.read_csv(\"Iris.csv\")\n",
    "\n",
    "print('Iris-setosa')\n",
    "setosa = data['Species'] == 'Iris-setosa' # Indexes are stored in setosa of the Iris-setosa species\n",
    "print(data[setosa].describe())\n",
    "\n",
    "print('\\nIris-versicolor')\n",
    "versi = data['Species'] == 'Iris-versicolor'\n",
    "print(data[versi].describe())\n",
    "\n",
    "print('\\nIris-virginica')\n",
    "vergi = data['Species'] == 'Iris-virginica'\n",
    "print(data[vergi].describe())"
   ]
  }
 ],
 "metadata": {
  "kernelspec": {
   "display_name": "Python 3 (ipykernel)",
   "language": "python",
   "name": "python3"
  },
  "language_info": {
   "codemirror_mode": {
    "name": "ipython",
    "version": 3
   },
   "file_extension": ".py",
   "mimetype": "text/x-python",
   "name": "python",
   "nbconvert_exporter": "python",
   "pygments_lexer": "ipython3",
   "version": "3.10.9"
  }
 },
 "nbformat": 4,
 "nbformat_minor": 5
}
