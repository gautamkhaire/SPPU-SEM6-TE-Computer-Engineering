{
 "cells": [
  {
   "cell_type": "markdown",
   "id": "b5a86a69",
   "metadata": {},
   "source": [
    "## Assignment 7: Text Analytics"
   ]
  },
  {
   "cell_type": "markdown",
   "id": "7457521c",
   "metadata": {},
   "source": [
    "### Part-1: Extract Sample document and apply following document preprocessing methods: Tokenization, POS Tagging, stop words removal, Stemming and Lemmatization."
   ]
  },
  {
   "cell_type": "code",
   "execution_count": 36,
   "id": "51ca645c",
   "metadata": {},
   "outputs": [
    {
     "name": "stderr",
     "output_type": "stream",
     "text": [
      "[nltk_data] Downloading package wordnet to\n",
      "[nltk_data]     C:\\Users\\hp\\AppData\\Roaming\\nltk_data...\n",
      "[nltk_data]   Package wordnet is already up-to-date!\n",
      "[nltk_data] Downloading package omw-1.4 to\n",
      "[nltk_data]     C:\\Users\\hp\\AppData\\Roaming\\nltk_data...\n"
     ]
    },
    {
     "data": {
      "text/plain": [
       "True"
      ]
     },
     "execution_count": 36,
     "metadata": {},
     "output_type": "execute_result"
    }
   ],
   "source": [
    "# Importing Natural Language ToolKit Library\n",
    "import nltk\n",
    "nltk.download('wordnet') # For Lemmatization Technique we need this wordnet\n",
    "nltk.download('omw-1.4')"
   ]
  },
  {
   "cell_type": "code",
   "execution_count": 28,
   "id": "eb1c0acf",
   "metadata": {},
   "outputs": [],
   "source": [
    "# Initialize the text\n",
    "text= \"Tokenization is the first step in text analytics. The process of breaking down a text paragraph into smaller chunks such as words or sentences is called Tokenization.\""
   ]
  },
  {
   "cell_type": "markdown",
   "id": "6bda73e8",
   "metadata": {},
   "source": [
    "### Perform Tokenization"
   ]
  },
  {
   "cell_type": "code",
   "execution_count": 29,
   "id": "780c0c64",
   "metadata": {},
   "outputs": [
    {
     "name": "stdout",
     "output_type": "stream",
     "text": [
      "['Tokenization is the first step in text analytics.', 'The process of breaking down a text paragraph into smaller chunks such as words or sentences is called Tokenization.']\n"
     ]
    }
   ],
   "source": [
    "# Sentence Tokenization\n",
    "from nltk.tokenize import sent_tokenize\n",
    "tokenize_sentences=sent_tokenize(text)\n",
    "print(tokenize_sentences)"
   ]
  },
  {
   "cell_type": "code",
   "execution_count": 30,
   "id": "c80b51cc",
   "metadata": {},
   "outputs": [
    {
     "name": "stdout",
     "output_type": "stream",
     "text": [
      "['Tokenization', 'is', 'the', 'first', 'step', 'in', 'text', 'analytics', '.', 'The', 'process', 'of', 'breaking', 'down', 'a', 'text', 'paragraph', 'into', 'smaller', 'chunks', 'such', 'as', 'words', 'or', 'sentences', 'is', 'called', 'Tokenization', '.']\n"
     ]
    }
   ],
   "source": [
    "# Word Tokenization\n",
    "from nltk.tokenize import word_tokenize\n",
    "tokenize_words=word_tokenize(text)\n",
    "print(tokenize_words)"
   ]
  },
  {
   "cell_type": "markdown",
   "id": "6258e640",
   "metadata": {},
   "source": [
    "### Removing Punctuations and Stop Words"
   ]
  },
  {
   "cell_type": "code",
   "execution_count": 31,
   "id": "0d533424",
   "metadata": {},
   "outputs": [
    {
     "name": "stdout",
     "output_type": "stream",
     "text": [
      "{'they', \"won't\", 'should', 'shan', 'own', \"aren't\", 'against', 'up', 'hers', 'aren', \"mightn't\", 'all', 'd', 'after', 'o', 'ours', 'had', 'the', 'he', \"isn't\", 'your', 'does', 'i', 'of', 'his', 'no', 'any', \"doesn't\", 'during', 'few', 'so', \"hasn't\", 'wasn', 'hasn', 'then', 'because', 'there', \"mustn't\", \"it's\", 'each', 'in', 'above', 'out', 'most', 'and', 'doing', 'themselves', \"shan't\", 'which', 'or', 'him', 'its', 'are', 'll', 'be', 'their', 'below', 'how', 'you', 'too', 'ourselves', 'before', 'were', \"haven't\", 'to', \"should've\", 'it', 'can', 'won', 'with', 'yours', \"don't\", 'hadn', 'who', 'both', 'for', 'will', 'just', 'from', 'itself', \"shouldn't\", 'off', 'but', 'm', 'than', 'himself', \"that'll\", 'further', 're', 'this', \"she's\", 'by', 'needn', 'shouldn', 'couldn', 'she', 's', 'where', 'while', 'those', 'why', 'over', 'haven', 'more', 'herself', \"you've\", \"you'll\", 'didn', 'wouldn', 'my', 'what', 'is', 'that', 'into', 'on', 'such', 'same', 've', 'myself', 'as', \"weren't\", 'under', 'until', 'me', 'been', 'when', 'don', 'ma', \"wouldn't\", 'these', 'nor', \"hadn't\", 'about', 'here', 'some', 't', 'an', 'ain', 'only', 'was', 'very', \"needn't\", 'if', 'mustn', 'do', 'whom', 'a', 'them', \"couldn't\", \"didn't\", 'theirs', 'isn', \"you'd\", 'at', 'doesn', 'now', 'again', 'yourselves', \"you're\", 'our', 'being', 'other', 'did', 'am', 'through', 'have', 'y', 'having', 'has', 'between', 'weren', 'we', 'yourself', 'down', 'once', 'not', 'her', 'mightn', \"wasn't\"}\n"
     ]
    }
   ],
   "source": [
    "# Printing Stop words of English\n",
    "from nltk.corpus import stopwords\n",
    "stop_words=set(stopwords.words(\"english\"))\n",
    "print(stop_words)"
   ]
  },
  {
   "cell_type": "code",
   "execution_count": 32,
   "id": "738fa6b1",
   "metadata": {},
   "outputs": [
    {
     "name": "stdout",
     "output_type": "stream",
     "text": [
      "['how', 'to', 'remove', 'stop', 'words', 'with', 'nltk', 'library', 'in', 'python']\n"
     ]
    }
   ],
   "source": [
    "import re\n",
    "text=\"How to remove stop words with NLTK library in python ?\"\n",
    "text=re.sub('[^a-zA-Z]',' ',text) # Removing the Punctuation marks\n",
    "tokens=word_tokenize(text.lower()) # Changing all letters to lowercase letters\n",
    "print(tokens)"
   ]
  },
  {
   "cell_type": "code",
   "execution_count": 33,
   "id": "3053e218",
   "metadata": {},
   "outputs": [
    {
     "name": "stdout",
     "output_type": "stream",
     "text": [
      "Tokenized Words ['how', 'to', 'remove', 'stop', 'words', 'with', 'nltk', 'library', 'in', 'python']\n",
      "Filtered Words ['remove', 'stop', 'words', 'nltk', 'library', 'python']\n"
     ]
    }
   ],
   "source": [
    "filtered_text=[]\n",
    "for token in tokens:\n",
    "    if token not in stop_words:\n",
    "        filtered_text.append(token)\n",
    "\n",
    "print(\"Tokenized Words\",tokens)\n",
    "print(\"Filtered Words\",filtered_text)"
   ]
  },
  {
   "cell_type": "markdown",
   "id": "72f266f8",
   "metadata": {},
   "source": [
    "### Perform Stemming "
   ]
  },
  {
   "cell_type": "code",
   "execution_count": 38,
   "id": "0aa8dd76",
   "metadata": {},
   "outputs": [
    {
     "name": "stdout",
     "output_type": "stream",
     "text": [
      "wait\n",
      "wait\n",
      "wait\n",
      "wait\n",
      "cri\n",
      "cri\n"
     ]
    }
   ],
   "source": [
    "from nltk.stem import PorterStemmer\n",
    "ps=PorterStemmer()\n",
    "\n",
    "words=[\"waiting\",\"waited\",\"wait\",\"waits\",\"cries\",\"cry\"]\n",
    "\n",
    "for word in words:\n",
    "    rootWord=ps.stem(word)\n",
    "    print(rootWord)"
   ]
  },
  {
   "cell_type": "markdown",
   "id": "42f628b7",
   "metadata": {},
   "source": [
    "### Perform Lemmatization"
   ]
  },
  {
   "cell_type": "code",
   "execution_count": 39,
   "id": "3d62693c",
   "metadata": {},
   "outputs": [
    {
     "name": "stdout",
     "output_type": "stream",
     "text": [
      "studying\n",
      "study\n",
      "study\n",
      "cry\n",
      "cry\n"
     ]
    }
   ],
   "source": [
    "from nltk.stem import WordNetLemmatizer\n",
    "wordnet_lemmatizer=WordNetLemmatizer()\n",
    "\n",
    "words=[\"studying\",\"study\",\"studies\",\"cries\",\"cry\"]\n",
    "\n",
    "for word in words:\n",
    "    rootWord=wordnet_lemmatizer.lemmatize(word)\n",
    "    print(rootWord)"
   ]
  },
  {
   "cell_type": "markdown",
   "id": "743efc28",
   "metadata": {},
   "source": [
    "### Applying POS Tagging to text\n",
    "(Determiner, noun, adjective , adverb ,verb,Personal Pronoun etc.) as tag (DT,NN ,JJ,RB,VB,PRP etc) "
   ]
  },
  {
   "cell_type": "code",
   "execution_count": 41,
   "id": "ed24e1b3",
   "metadata": {},
   "outputs": [
    {
     "name": "stdout",
     "output_type": "stream",
     "text": [
      "[('The', 'DT')]\n",
      "[('pink', 'NN')]\n",
      "[('sweater', 'NN')]\n",
      "[('fits', 'NNS')]\n",
      "[('her', 'PRP$')]\n",
      "[('perfectly', 'RB')]\n"
     ]
    }
   ],
   "source": [
    "text=\"The pink sweater fits her perfectly\"\n",
    "\n",
    "words=word_tokenize(text)\n",
    "\n",
    "for word in words:\n",
    "    print(nltk.pos_tag([word]))"
   ]
  },
  {
   "cell_type": "markdown",
   "id": "620bd7bc",
   "metadata": {},
   "source": [
    "### Part-2: Create representation of document by calculating Term Frequency and Inverse Document Frequency "
   ]
  },
  {
   "cell_type": "code",
   "execution_count": 44,
   "id": "615c549e",
   "metadata": {},
   "outputs": [],
   "source": [
    "import pandas as pd\n",
    "from sklearn.feature_extraction.text import TfidfVectorizer"
   ]
  },
  {
   "cell_type": "code",
   "execution_count": 45,
   "id": "06e717cd",
   "metadata": {},
   "outputs": [],
   "source": [
    "# Initialize the Documents.\n",
    "documentA = 'Jupiter is the largest Planet'\n",
    "documentB = 'Mars is the fourth planet from the Sun'"
   ]
  },
  {
   "cell_type": "code",
   "execution_count": 47,
   "id": "85f70457",
   "metadata": {},
   "outputs": [
    {
     "name": "stdout",
     "output_type": "stream",
     "text": [
      "['Jupiter', 'is', 'the', 'largest', 'Planet']\n",
      "['Mars', 'is', 'the', 'fourth', 'planet', 'from', 'the', 'Sun']\n"
     ]
    }
   ],
   "source": [
    "# Create BagOfWords (BoW) for Document A and B.\n",
    "bagOfWordsA=documentA.split(' ')\n",
    "bagOfWordsB=documentB.split(' ')\n",
    "print(bagOfWordsA)\n",
    "print(bagOfWordsB)"
   ]
  },
  {
   "cell_type": "code",
   "execution_count": 49,
   "id": "01f3fbcf",
   "metadata": {},
   "outputs": [
    {
     "name": "stdout",
     "output_type": "stream",
     "text": [
      "{'Sun', 'largest', 'Planet', 'the', 'planet', 'Mars', 'from', 'fourth', 'is', 'Jupiter'}\n"
     ]
    }
   ],
   "source": [
    "# Create Collection of Unique words from Document A and B.\n",
    "uniqueWords=set(bagOfWordsA).union(set(bagOfWordsB))\n",
    "print(uniqueWords)"
   ]
  },
  {
   "cell_type": "code",
   "execution_count": 51,
   "id": "548428cd",
   "metadata": {},
   "outputs": [
    {
     "name": "stdout",
     "output_type": "stream",
     "text": [
      "{'Sun': 0, 'largest': 1, 'Planet': 1, 'the': 1, 'planet': 0, 'Mars': 0, 'from': 0, 'fourth': 0, 'is': 1, 'Jupiter': 1}\n",
      "{'Sun': 1, 'largest': 0, 'Planet': 0, 'the': 2, 'planet': 1, 'Mars': 1, 'from': 1, 'fourth': 1, 'is': 1, 'Jupiter': 0}\n"
     ]
    }
   ],
   "source": [
    "# Create a dictionary of words and their occurrence for each document in the corpus\n",
    "freqOfWordsA=dict.fromkeys(uniqueWords,0)\n",
    "for word in bagOfWordsA:\n",
    "    freqOfWordsA[word]+=1\n",
    "\n",
    "freqOfWordsB=dict.fromkeys(uniqueWords,0)\n",
    "for word in bagOfWordsB:\n",
    "    freqOfWordsB[word]+=1\n",
    "\n",
    "print(freqOfWordsA)   \n",
    "print(freqOfWordsB)"
   ]
  },
  {
   "cell_type": "markdown",
   "id": "06946423",
   "metadata": {},
   "source": [
    "### Compute the Term Frequency for each of our documents."
   ]
  },
  {
   "cell_type": "code",
   "execution_count": 54,
   "id": "7d30fd9b",
   "metadata": {},
   "outputs": [
    {
     "name": "stdout",
     "output_type": "stream",
     "text": [
      "{'Sun': 0.0, 'largest': 0.2, 'Planet': 0.2, 'the': 0.2, 'planet': 0.0, 'Mars': 0.0, 'from': 0.0, 'fourth': 0.0, 'is': 0.2, 'Jupiter': 0.2}\n",
      "{'Sun': 0.125, 'largest': 0.0, 'Planet': 0.0, 'the': 0.25, 'planet': 0.125, 'Mars': 0.125, 'from': 0.125, 'fourth': 0.125, 'is': 0.125, 'Jupiter': 0.0}\n"
     ]
    }
   ],
   "source": [
    "def computeTF(wordDict,bagOfWords):\n",
    "    tfDict={}\n",
    "    bagOfWordsCount=len(bagOfWords)\n",
    "    \n",
    "    for word,count in wordDict.items():\n",
    "        tfDict[word]=count/float(bagOfWordsCount)\n",
    "        \n",
    "    return tfDict    \n",
    "\n",
    "tfA=computeTF(freqOfWordsA,bagOfWordsA) # Term Frequency of Document A\n",
    "tfB=computeTF(freqOfWordsB,bagOfWordsB) # Term Frequency of Document B\n",
    "\n",
    "print(tfA)\n",
    "print(tfB)"
   ]
  },
  {
   "cell_type": "markdown",
   "id": "25a25ded",
   "metadata": {},
   "source": [
    "### Compute the term Inverse Document Frequency"
   ]
  },
  {
   "cell_type": "code",
   "execution_count": 59,
   "id": "b3072dc5",
   "metadata": {},
   "outputs": [
    {
     "data": {
      "text/plain": [
       "{'Sun': 0.6931471805599453,\n",
       " 'largest': 0.6931471805599453,\n",
       " 'Planet': 0.6931471805599453,\n",
       " 'the': 0.0,\n",
       " 'planet': 0.6931471805599453,\n",
       " 'Mars': 0.6931471805599453,\n",
       " 'from': 0.6931471805599453,\n",
       " 'fourth': 0.6931471805599453,\n",
       " 'is': 0.0,\n",
       " 'Jupiter': 0.6931471805599453}"
      ]
     },
     "execution_count": 59,
     "metadata": {},
     "output_type": "execute_result"
    }
   ],
   "source": [
    "def computeIDF(documents):\n",
    "    import math\n",
    "    N=len(documents)\n",
    "    \n",
    "    idfDict=dict.fromkeys(documents[0].keys(),0)\n",
    "    for document in documents:\n",
    "        for word,count in document.items():\n",
    "            if(count>0):\n",
    "                idfDict[word]+=1;\n",
    "    \n",
    "    for word,count in idfDict.items():\n",
    "        idfDict[word]=math.log(N/float(count))\n",
    "    \n",
    "    return idfDict\n",
    "\n",
    "idf=computeIDF([freqOfWordsA,freqOfWordsB])\n",
    "idf"
   ]
  },
  {
   "cell_type": "markdown",
   "id": "3ab8b928",
   "metadata": {},
   "source": [
    "### Compute the term TFIDF for all words."
   ]
  },
  {
   "cell_type": "code",
   "execution_count": 62,
   "id": "1f61bffd",
   "metadata": {},
   "outputs": [
    {
     "data": {
      "text/html": [
       "<div>\n",
       "<style scoped>\n",
       "    .dataframe tbody tr th:only-of-type {\n",
       "        vertical-align: middle;\n",
       "    }\n",
       "\n",
       "    .dataframe tbody tr th {\n",
       "        vertical-align: top;\n",
       "    }\n",
       "\n",
       "    .dataframe thead th {\n",
       "        text-align: right;\n",
       "    }\n",
       "</style>\n",
       "<table border=\"1\" class=\"dataframe\">\n",
       "  <thead>\n",
       "    <tr style=\"text-align: right;\">\n",
       "      <th></th>\n",
       "      <th>Sun</th>\n",
       "      <th>largest</th>\n",
       "      <th>Planet</th>\n",
       "      <th>the</th>\n",
       "      <th>planet</th>\n",
       "      <th>Mars</th>\n",
       "      <th>from</th>\n",
       "      <th>fourth</th>\n",
       "      <th>is</th>\n",
       "      <th>Jupiter</th>\n",
       "    </tr>\n",
       "  </thead>\n",
       "  <tbody>\n",
       "    <tr>\n",
       "      <th>0</th>\n",
       "      <td>0.000000</td>\n",
       "      <td>0.138629</td>\n",
       "      <td>0.138629</td>\n",
       "      <td>0.0</td>\n",
       "      <td>0.000000</td>\n",
       "      <td>0.000000</td>\n",
       "      <td>0.000000</td>\n",
       "      <td>0.000000</td>\n",
       "      <td>0.0</td>\n",
       "      <td>0.138629</td>\n",
       "    </tr>\n",
       "    <tr>\n",
       "      <th>1</th>\n",
       "      <td>0.086643</td>\n",
       "      <td>0.000000</td>\n",
       "      <td>0.000000</td>\n",
       "      <td>0.0</td>\n",
       "      <td>0.086643</td>\n",
       "      <td>0.086643</td>\n",
       "      <td>0.086643</td>\n",
       "      <td>0.086643</td>\n",
       "      <td>0.0</td>\n",
       "      <td>0.000000</td>\n",
       "    </tr>\n",
       "  </tbody>\n",
       "</table>\n",
       "</div>"
      ],
      "text/plain": [
       "        Sun   largest    Planet  the    planet      Mars      from    fourth  \\\n",
       "0  0.000000  0.138629  0.138629  0.0  0.000000  0.000000  0.000000  0.000000   \n",
       "1  0.086643  0.000000  0.000000  0.0  0.086643  0.086643  0.086643  0.086643   \n",
       "\n",
       "    is   Jupiter  \n",
       "0  0.0  0.138629  \n",
       "1  0.0  0.000000  "
      ]
     },
     "execution_count": 62,
     "metadata": {},
     "output_type": "execute_result"
    }
   ],
   "source": [
    "def computeTFIDF(tf,idf):\n",
    "    tfidf={}\n",
    "    \n",
    "    for word,count in tf.items():\n",
    "        tfidf[word]=count*idf[word]\n",
    "    \n",
    "    return tfidf\n",
    "\n",
    "tfidfA=computeTFIDF(tfA,idf)\n",
    "tfidfB=computeTFIDF(tfB,idf)\n",
    "\n",
    "df=pd.DataFrame([tfidfA,tfidfB])\n",
    "df"
   ]
  }
 ],
 "metadata": {
  "kernelspec": {
   "display_name": "Python 3 (ipykernel)",
   "language": "python",
   "name": "python3"
  },
  "language_info": {
   "codemirror_mode": {
    "name": "ipython",
    "version": 3
   },
   "file_extension": ".py",
   "mimetype": "text/x-python",
   "name": "python",
   "nbconvert_exporter": "python",
   "pygments_lexer": "ipython3",
   "version": "3.10.9"
  }
 },
 "nbformat": 4,
 "nbformat_minor": 5
}
