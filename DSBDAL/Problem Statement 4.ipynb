{
 "cells": [
  {
   "cell_type": "markdown",
   "id": "5156d430",
   "metadata": {},
   "source": [
    "## Assignment A2- Data Wrangling, II"
   ]
  },
  {
   "cell_type": "code",
   "execution_count": 22,
   "id": "014db8f8",
   "metadata": {},
   "outputs": [],
   "source": [
    "#importing libraries \n",
    "import pandas as pd \n",
    "import numpy as np\n",
    "import matplotlib.pyplot as plt"
   ]
  },
  {
   "cell_type": "code",
   "execution_count": 23,
   "id": "d1916f83",
   "metadata": {},
   "outputs": [
    {
     "data": {
      "text/html": [
       "<div>\n",
       "<style scoped>\n",
       "    .dataframe tbody tr th:only-of-type {\n",
       "        vertical-align: middle;\n",
       "    }\n",
       "\n",
       "    .dataframe tbody tr th {\n",
       "        vertical-align: top;\n",
       "    }\n",
       "\n",
       "    .dataframe thead th {\n",
       "        text-align: right;\n",
       "    }\n",
       "</style>\n",
       "<table border=\"1\" class=\"dataframe\">\n",
       "  <thead>\n",
       "    <tr style=\"text-align: right;\">\n",
       "      <th></th>\n",
       "      <th>gender</th>\n",
       "      <th>race/ethnicity</th>\n",
       "      <th>parental level of education</th>\n",
       "      <th>lunch</th>\n",
       "      <th>test preparation course</th>\n",
       "      <th>math score</th>\n",
       "      <th>reading score</th>\n",
       "      <th>writing score</th>\n",
       "    </tr>\n",
       "  </thead>\n",
       "  <tbody>\n",
       "    <tr>\n",
       "      <th>0</th>\n",
       "      <td>female</td>\n",
       "      <td>group B</td>\n",
       "      <td>bachelor's degree</td>\n",
       "      <td>standard</td>\n",
       "      <td>none</td>\n",
       "      <td>72</td>\n",
       "      <td>72</td>\n",
       "      <td>74</td>\n",
       "    </tr>\n",
       "    <tr>\n",
       "      <th>1</th>\n",
       "      <td>female</td>\n",
       "      <td>group C</td>\n",
       "      <td>some college</td>\n",
       "      <td>standard</td>\n",
       "      <td>completed</td>\n",
       "      <td>69</td>\n",
       "      <td>90</td>\n",
       "      <td>88</td>\n",
       "    </tr>\n",
       "    <tr>\n",
       "      <th>2</th>\n",
       "      <td>female</td>\n",
       "      <td>group B</td>\n",
       "      <td>master's degree</td>\n",
       "      <td>standard</td>\n",
       "      <td>none</td>\n",
       "      <td>90</td>\n",
       "      <td>95</td>\n",
       "      <td>93</td>\n",
       "    </tr>\n",
       "    <tr>\n",
       "      <th>3</th>\n",
       "      <td>male</td>\n",
       "      <td>group A</td>\n",
       "      <td>associate's degree</td>\n",
       "      <td>free/reduced</td>\n",
       "      <td>none</td>\n",
       "      <td>47</td>\n",
       "      <td>57</td>\n",
       "      <td>44</td>\n",
       "    </tr>\n",
       "    <tr>\n",
       "      <th>4</th>\n",
       "      <td>male</td>\n",
       "      <td>group C</td>\n",
       "      <td>some college</td>\n",
       "      <td>standard</td>\n",
       "      <td>none</td>\n",
       "      <td>76</td>\n",
       "      <td>78</td>\n",
       "      <td>75</td>\n",
       "    </tr>\n",
       "  </tbody>\n",
       "</table>\n",
       "</div>"
      ],
      "text/plain": [
       "   gender race/ethnicity parental level of education         lunch  \\\n",
       "0  female        group B           bachelor's degree      standard   \n",
       "1  female        group C                some college      standard   \n",
       "2  female        group B             master's degree      standard   \n",
       "3    male        group A          associate's degree  free/reduced   \n",
       "4    male        group C                some college      standard   \n",
       "\n",
       "  test preparation course  math score  reading score  writing score  \n",
       "0                    none          72             72             74  \n",
       "1               completed          69             90             88  \n",
       "2                    none          90             95             93  \n",
       "3                    none          47             57             44  \n",
       "4                    none          76             78             75  "
      ]
     },
     "execution_count": 23,
     "metadata": {},
     "output_type": "execute_result"
    }
   ],
   "source": [
    "data = pd.read_csv('StudentsPerformance.csv')\n",
    "data.head()"
   ]
  },
  {
   "cell_type": "markdown",
   "id": "514d19b1",
   "metadata": {},
   "source": [
    "### Description of dataset:\n",
    "The data set contains academic data of students from different streams and different levels of education. It displays marks of students in 3 categories:\n",
    "1. Math Score\n",
    "2. Reading Score\n",
    "3. Writing Score"
   ]
  },
  {
   "cell_type": "code",
   "execution_count": 24,
   "id": "05c56ea9",
   "metadata": {},
   "outputs": [
    {
     "name": "stdout",
     "output_type": "stream",
     "text": [
      "<class 'pandas.core.frame.DataFrame'>\n",
      "RangeIndex: 1000 entries, 0 to 999\n",
      "Data columns (total 8 columns):\n",
      " #   Column                       Non-Null Count  Dtype \n",
      "---  ------                       --------------  ----- \n",
      " 0   gender                       1000 non-null   object\n",
      " 1   race/ethnicity               1000 non-null   object\n",
      " 2   parental level of education  1000 non-null   object\n",
      " 3   lunch                        1000 non-null   object\n",
      " 4   test preparation course      1000 non-null   object\n",
      " 5   math score                   1000 non-null   int64 \n",
      " 6   reading score                1000 non-null   int64 \n",
      " 7   writing score                1000 non-null   int64 \n",
      "dtypes: int64(3), object(5)\n",
      "memory usage: 62.6+ KB\n"
     ]
    }
   ],
   "source": [
    "data.info()"
   ]
  },
  {
   "cell_type": "markdown",
   "id": "3013e70a",
   "metadata": {},
   "source": [
    "### Part 1: Treatment of missing values\n",
    "The missing values will be replaced by the method of: Imputation by mean.\n",
    "Using this approach, we compute the mean of a column’s non-missing values, and then replace the missing values in each column separately and independently of the others. \n"
   ]
  },
  {
   "cell_type": "code",
   "execution_count": 25,
   "id": "f64eeacf",
   "metadata": {},
   "outputs": [
    {
     "name": "stdout",
     "output_type": "stream",
     "text": [
      "The number of missing values per column are:\n"
     ]
    },
    {
     "data": {
      "text/plain": [
       "gender                         0\n",
       "race/ethnicity                 0\n",
       "parental level of education    0\n",
       "lunch                          0\n",
       "test preparation course        0\n",
       "math score                     0\n",
       "reading score                  0\n",
       "writing score                  0\n",
       "dtype: int64"
      ]
     },
     "execution_count": 25,
     "metadata": {},
     "output_type": "execute_result"
    }
   ],
   "source": [
    "print(\"The number of missing values per column are:\")\n",
    "data.isna().sum()"
   ]
  },
  {
   "cell_type": "code",
   "execution_count": 26,
   "id": "4809f14d",
   "metadata": {},
   "outputs": [
    {
     "data": {
      "text/plain": [
       "0"
      ]
     },
     "execution_count": 26,
     "metadata": {},
     "output_type": "execute_result"
    }
   ],
   "source": [
    " np.count_nonzero(data.isnull())   "
   ]
  },
  {
   "cell_type": "markdown",
   "id": "aa0df3d2",
   "metadata": {},
   "source": [
    "As all missing data is only numerical, it can be replaced by the mean value of non-null rows to deal with missing values."
   ]
  },
  {
   "cell_type": "code",
   "execution_count": 27,
   "id": "885a362a",
   "metadata": {},
   "outputs": [],
   "source": [
    "data[\"math score\"] = data[\"math score\"].replace(np.NaN, data[\"math score\"].mean())\n",
    "data[\"reading score\"] = data[\"reading score\"].replace(np.NaN, data[\"reading score\"].mean())\n",
    "data[\"writing score\"] = data[\"writing score\"].replace(np.NaN, data[\"writing score\"].mean())"
   ]
  },
  {
   "cell_type": "code",
   "execution_count": 28,
   "id": "7d332568",
   "metadata": {},
   "outputs": [
    {
     "data": {
      "text/plain": [
       "gender                         0\n",
       "race/ethnicity                 0\n",
       "parental level of education    0\n",
       "lunch                          0\n",
       "test preparation course        0\n",
       "math score                     0\n",
       "reading score                  0\n",
       "writing score                  0\n",
       "dtype: int64"
      ]
     },
     "execution_count": 28,
     "metadata": {},
     "output_type": "execute_result"
    }
   ],
   "source": [
    "data.isna().sum()"
   ]
  },
  {
   "cell_type": "markdown",
   "id": "9c3d3dd6",
   "metadata": {},
   "source": [
    "All missing data which was numerical was replaced by the mean value of non-null rows to deal with missing values. Hence, no missing values are present in dataset."
   ]
  },
  {
   "cell_type": "markdown",
   "id": "76b38c83",
   "metadata": {},
   "source": [
    "### Part 2: Detecting outliers\n",
    "Z-score is just the number of standard deviations away from the mean that a certain data point is. Hence, if z-score comes out to be greater than the threshold of 3, the point is considered an outlier and removed."
   ]
  },
  {
   "cell_type": "code",
   "execution_count": 31,
   "id": "0d1da093",
   "metadata": {},
   "outputs": [
    {
     "name": "stdout",
     "output_type": "stream",
     "text": [
      "Mean of math score: 66.089\n",
      "Mean of reading score: 69.169\n",
      "Mean of writing score: 68.054\n"
     ]
    }
   ],
   "source": [
    "print(\"Mean of math score:\",data[\"math score\"].mean())\n",
    "print(\"Mean of reading score:\",data[\"reading score\"].mean())\n",
    "print(\"Mean of writing score:\",data[\"writing score\"].mean())"
   ]
  },
  {
   "cell_type": "code",
   "execution_count": 33,
   "id": "168972a0",
   "metadata": {},
   "outputs": [
    {
     "name": "stdout",
     "output_type": "stream",
     "text": [
      "Median of math score: 66.0\n",
      "Median of reading score: 70.0\n",
      "Median of writing score: 69.0\n"
     ]
    }
   ],
   "source": [
    "print(\"Median of math score:\",data[\"math score\"].median())\n",
    "print(\"Median of reading score:\",data[\"reading score\"].median())\n",
    "print(\"Median of writing score:\",data[\"writing score\"].median())"
   ]
  },
  {
   "cell_type": "code",
   "execution_count": 35,
   "id": "9b22de50",
   "metadata": {},
   "outputs": [
    {
     "name": "stdout",
     "output_type": "stream",
     "text": [
      "Standard Deivation of math score: 15.163080096009468\n",
      "Standard Deivation of reading score: 14.60019193725222\n",
      "Standard Deivation of writing score: 15.195657010869642\n"
     ]
    }
   ],
   "source": [
    "print(\"Standard Deivation of math score:\",data[\"math score\"].std())\n",
    "print(\"Standard Deivation of reading score:\",data[\"reading score\"].std())\n",
    "print(\"Standard Deivation of writing score:\",data[\"writing score\"].std())"
   ]
  },
  {
   "cell_type": "code",
   "execution_count": 44,
   "id": "dee54330",
   "metadata": {},
   "outputs": [
    {
     "data": {
      "text/plain": [
       "Text(0.5, 1.0, 'Math Scores of Students')"
      ]
     },
     "execution_count": 44,
     "metadata": {},
     "output_type": "execute_result"
    },
    {
     "data": {
      "image/png": "[encoded data removed]",
      "text/plain": [
       "<Figure size 640x480 with 1 Axes>"
      ]
     },
     "metadata": {},
     "output_type": "display_data"
    }
   ],
   "source": [
    "import matplotlib.pyplot as plt\n",
    "\n",
    "n, bins, patches = plt.hist(x=data[\"math score\"], bins='auto', color='#0504aa', rwidth=0.95)\n",
    "plt.grid(axis='y', alpha=0.75)\n",
    "plt.xlabel('Math Score')\n",
    "plt.ylabel('Frequency')\n",
    "plt.title('Math Scores of Students')"
   ]
  },
  {
   "cell_type": "code",
   "execution_count": 41,
   "id": "290081ae",
   "metadata": {},
   "outputs": [],
   "source": [
    "# Using z score to remove outliers\n",
    "outliers=[]\n",
    "def detectOutliers(data):\n",
    "    threshold=3\n",
    "    mean=data['math score'].mean()\n",
    "    std=data['math score'].std()\n",
    "    \n",
    "    for i in data['math score']:\n",
    "        z_score=(i-mean)/std;\n",
    "        if np.abs(z_score)>threshold:\n",
    "            outliers.append(i)\n",
    "    return outliers"
   ]
  },
  {
   "cell_type": "code",
   "execution_count": 42,
   "id": "ea8ac7ea",
   "metadata": {},
   "outputs": [
    {
     "name": "stdout",
     "output_type": "stream",
     "text": [
      "[18, 0, 22, 24, 26, 19, 23, 8]\n"
     ]
    }
   ],
   "source": [
    "# Using boxplot to remove outliers\n",
    "Q1=np.percentile(data['math score'],25)\n",
    "Q3=np.percentile(data['math score'],75)\n",
    "IQR=Q3-Q1\n",
    "upper_bound=Q3+IQR*1.5\n",
    "lower_bound=Q1-IQR*1.5\n",
    "\n",
    "outliers2=[]\n",
    "for i in data['math score']:\n",
    "    if(i<lower_bound or upper_bound<i):\n",
    "        outliers2.append(i) \n",
    "        \n",
    "print(outliers2) "
   ]
  },
  {
   "cell_type": "code",
   "execution_count": 43,
   "id": "685990e8",
   "metadata": {},
   "outputs": [
    {
     "name": "stdout",
     "output_type": "stream",
     "text": [
      "[18, 0, 19, 8] (1000, 8)\n"
     ]
    }
   ],
   "source": [
    "m=detectOutliers(data)\n",
    "print(m,data.shape)"
   ]
  },
  {
   "cell_type": "code",
   "execution_count": 13,
   "id": "a1ad44c4",
   "metadata": {},
   "outputs": [
    {
     "data": {
      "text/plain": [
       "(995, 8)"
      ]
     },
     "execution_count": 13,
     "metadata": {},
     "output_type": "execute_result"
    }
   ],
   "source": [
    "indexAge = data[ (data['math score'].isin(m)) ].index\n",
    "data.drop(indexAge , inplace=True)\n",
    "data.shape"
   ]
  },
  {
   "cell_type": "code",
   "execution_count": 37,
   "id": "9d93482f",
   "metadata": {},
   "outputs": [
    {
     "data": {
      "image/png": "[encoded data removed]",
      "text/plain": [
       "<Figure size 640x480 with 1 Axes>"
      ]
     },
     "metadata": {},
     "output_type": "display_data"
    }
   ],
   "source": [
    "plt.boxplot(data['math score'])\n",
    "plt.show()"
   ]
  },
  {
   "cell_type": "markdown",
   "id": "461069fc",
   "metadata": {},
   "source": [
    "Hence, 5 outliers based on math score have been removed using z-score."
   ]
  },
  {
   "cell_type": "markdown",
   "id": "6d3a3522",
   "metadata": {},
   "source": [
    "### Part 3: Scaling data: To change scale for better understanding\n",
    "Data Scaling is a data preprocessing step for numerical features. Data scaling is required to produce good results from . Various scalers are defined for this purpose like min-max scaler, standard scaler and robust scaler\n"
   ]
  },
  {
   "cell_type": "code",
   "execution_count": 29,
   "id": "b819ada7",
   "metadata": {},
   "outputs": [
    {
     "data": {
      "text/html": [
       "<div>\n",
       "<style scoped>\n",
       "    .dataframe tbody tr th:only-of-type {\n",
       "        vertical-align: middle;\n",
       "    }\n",
       "\n",
       "    .dataframe tbody tr th {\n",
       "        vertical-align: top;\n",
       "    }\n",
       "\n",
       "    .dataframe thead th {\n",
       "        text-align: right;\n",
       "    }\n",
       "</style>\n",
       "<table border=\"1\" class=\"dataframe\">\n",
       "  <thead>\n",
       "    <tr style=\"text-align: right;\">\n",
       "      <th></th>\n",
       "      <th>gender</th>\n",
       "      <th>race/ethnicity</th>\n",
       "      <th>parental level of education</th>\n",
       "      <th>lunch</th>\n",
       "      <th>test preparation course</th>\n",
       "      <th>math score</th>\n",
       "      <th>reading score</th>\n",
       "      <th>writing score</th>\n",
       "    </tr>\n",
       "  </thead>\n",
       "  <tbody>\n",
       "    <tr>\n",
       "      <th>0</th>\n",
       "      <td>female</td>\n",
       "      <td>group B</td>\n",
       "      <td>bachelor's degree</td>\n",
       "      <td>standard</td>\n",
       "      <td>none</td>\n",
       "      <td>0.563830</td>\n",
       "      <td>0.711340</td>\n",
       "      <td>0.106884</td>\n",
       "    </tr>\n",
       "    <tr>\n",
       "      <th>1</th>\n",
       "      <td>female</td>\n",
       "      <td>group C</td>\n",
       "      <td>some college</td>\n",
       "      <td>standard</td>\n",
       "      <td>completed</td>\n",
       "      <td>0.531915</td>\n",
       "      <td>0.896907</td>\n",
       "      <td>0.132246</td>\n",
       "    </tr>\n",
       "    <tr>\n",
       "      <th>2</th>\n",
       "      <td>female</td>\n",
       "      <td>group B</td>\n",
       "      <td>master's degree</td>\n",
       "      <td>standard</td>\n",
       "      <td>none</td>\n",
       "      <td>0.755319</td>\n",
       "      <td>0.948454</td>\n",
       "      <td>0.141304</td>\n",
       "    </tr>\n",
       "    <tr>\n",
       "      <th>3</th>\n",
       "      <td>male</td>\n",
       "      <td>group A</td>\n",
       "      <td>associate's degree</td>\n",
       "      <td>free/reduced</td>\n",
       "      <td>none</td>\n",
       "      <td>0.297872</td>\n",
       "      <td>0.556701</td>\n",
       "      <td>0.052536</td>\n",
       "    </tr>\n",
       "    <tr>\n",
       "      <th>4</th>\n",
       "      <td>male</td>\n",
       "      <td>group C</td>\n",
       "      <td>some college</td>\n",
       "      <td>standard</td>\n",
       "      <td>none</td>\n",
       "      <td>0.606383</td>\n",
       "      <td>0.773196</td>\n",
       "      <td>0.108696</td>\n",
       "    </tr>\n",
       "    <tr>\n",
       "      <th>5</th>\n",
       "      <td>female</td>\n",
       "      <td>group B</td>\n",
       "      <td>associate's degree</td>\n",
       "      <td>standard</td>\n",
       "      <td>none</td>\n",
       "      <td>0.553191</td>\n",
       "      <td>0.824742</td>\n",
       "      <td>0.114130</td>\n",
       "    </tr>\n",
       "    <tr>\n",
       "      <th>6</th>\n",
       "      <td>female</td>\n",
       "      <td>group B</td>\n",
       "      <td>some college</td>\n",
       "      <td>standard</td>\n",
       "      <td>completed</td>\n",
       "      <td>0.734043</td>\n",
       "      <td>0.948454</td>\n",
       "      <td>0.139493</td>\n",
       "    </tr>\n",
       "    <tr>\n",
       "      <th>7</th>\n",
       "      <td>male</td>\n",
       "      <td>group B</td>\n",
       "      <td>some college</td>\n",
       "      <td>free/reduced</td>\n",
       "      <td>none</td>\n",
       "      <td>0.223404</td>\n",
       "      <td>0.412371</td>\n",
       "      <td>0.043478</td>\n",
       "    </tr>\n",
       "    <tr>\n",
       "      <th>8</th>\n",
       "      <td>male</td>\n",
       "      <td>group D</td>\n",
       "      <td>high school</td>\n",
       "      <td>free/reduced</td>\n",
       "      <td>completed</td>\n",
       "      <td>0.478723</td>\n",
       "      <td>0.628866</td>\n",
       "      <td>0.094203</td>\n",
       "    </tr>\n",
       "    <tr>\n",
       "      <th>9</th>\n",
       "      <td>female</td>\n",
       "      <td>group B</td>\n",
       "      <td>high school</td>\n",
       "      <td>free/reduced</td>\n",
       "      <td>none</td>\n",
       "      <td>0.202128</td>\n",
       "      <td>0.587629</td>\n",
       "      <td>0.063406</td>\n",
       "    </tr>\n",
       "  </tbody>\n",
       "</table>\n",
       "</div>"
      ],
      "text/plain": [
       "   gender race/ethnicity parental level of education         lunch  \\\n",
       "0  female        group B           bachelor's degree      standard   \n",
       "1  female        group C                some college      standard   \n",
       "2  female        group B             master's degree      standard   \n",
       "3    male        group A          associate's degree  free/reduced   \n",
       "4    male        group C                some college      standard   \n",
       "5  female        group B          associate's degree      standard   \n",
       "6  female        group B                some college      standard   \n",
       "7    male        group B                some college  free/reduced   \n",
       "8    male        group D                 high school  free/reduced   \n",
       "9  female        group B                 high school  free/reduced   \n",
       "\n",
       "  test preparation course  math score  reading score  writing score  \n",
       "0                    none    0.563830       0.711340       0.106884  \n",
       "1               completed    0.531915       0.896907       0.132246  \n",
       "2                    none    0.755319       0.948454       0.141304  \n",
       "3                    none    0.297872       0.556701       0.052536  \n",
       "4                    none    0.606383       0.773196       0.108696  \n",
       "5                    none    0.553191       0.824742       0.114130  \n",
       "6               completed    0.734043       0.948454       0.139493  \n",
       "7                    none    0.223404       0.412371       0.043478  \n",
       "8               completed    0.478723       0.628866       0.094203  \n",
       "9                    none    0.202128       0.587629       0.063406  "
      ]
     },
     "execution_count": 29,
     "metadata": {},
     "output_type": "execute_result"
    }
   ],
   "source": [
    "from sklearn.preprocessing import MinMaxScaler # 0 to 1\n",
    "scaler = MinMaxScaler()\n",
    "\n",
    "numeric_data=['math score','reading score','writing score']\n",
    "model=scaler.fit(data[numeric_data])\n",
    "data[numeric_data]=model.transform(data[numeric_data])\n",
    "\n",
    "data.head(10)"
   ]
  },
  {
   "cell_type": "code",
   "execution_count": 28,
   "id": "5265ca07",
   "metadata": {},
   "outputs": [
    {
     "data": {
      "image/png": "[encoded data removed]",
      "text/plain": [
       "<Figure size 720x504 with 1 Axes>"
      ]
     },
     "metadata": {
      "needs_background": "light"
     },
     "output_type": "display_data"
    }
   ],
   "source": [
    "fig = plt.figure(figsize =(10, 7))\n",
    "plt.boxplot(data['math score'])\n",
    "plt.show()"
   ]
  },
  {
   "cell_type": "markdown",
   "id": "581f9ed6",
   "metadata": {},
   "source": [
    "### Checking skewness and using standard scaler"
   ]
  },
  {
   "cell_type": "code",
   "execution_count": 25,
   "id": "21695ded",
   "metadata": {},
   "outputs": [
    {
     "data": {
      "text/plain": [
       "math score       -0.140992\n",
       "reading score    -0.803827\n",
       "writing score    11.609803\n",
       "dtype: float64"
      ]
     },
     "execution_count": 25,
     "metadata": {},
     "output_type": "execute_result"
    }
   ],
   "source": [
    "data[numeric_data].skew()"
   ]
  },
  {
   "cell_type": "code",
   "execution_count": 30,
   "id": "bcc437b6",
   "metadata": {},
   "outputs": [
    {
     "data": {
      "text/html": [
       "<div>\n",
       "<style scoped>\n",
       "    .dataframe tbody tr th:only-of-type {\n",
       "        vertical-align: middle;\n",
       "    }\n",
       "\n",
       "    .dataframe tbody tr th {\n",
       "        vertical-align: top;\n",
       "    }\n",
       "\n",
       "    .dataframe thead th {\n",
       "        text-align: right;\n",
       "    }\n",
       "</style>\n",
       "<table border=\"1\" class=\"dataframe\">\n",
       "  <thead>\n",
       "    <tr style=\"text-align: right;\">\n",
       "      <th></th>\n",
       "      <th>gender</th>\n",
       "      <th>race/ethnicity</th>\n",
       "      <th>parental level of education</th>\n",
       "      <th>lunch</th>\n",
       "      <th>test preparation course</th>\n",
       "      <th>math score</th>\n",
       "      <th>reading score</th>\n",
       "      <th>writing score</th>\n",
       "    </tr>\n",
       "  </thead>\n",
       "  <tbody>\n",
       "    <tr>\n",
       "      <th>0</th>\n",
       "      <td>female</td>\n",
       "      <td>group B</td>\n",
       "      <td>bachelor's degree</td>\n",
       "      <td>standard</td>\n",
       "      <td>none</td>\n",
       "      <td>0.391297</td>\n",
       "      <td>0.240194</td>\n",
       "      <td>0.151403</td>\n",
       "    </tr>\n",
       "    <tr>\n",
       "      <th>1</th>\n",
       "      <td>female</td>\n",
       "      <td>group C</td>\n",
       "      <td>some college</td>\n",
       "      <td>standard</td>\n",
       "      <td>completed</td>\n",
       "      <td>0.186096</td>\n",
       "      <td>1.336507</td>\n",
       "      <td>0.627957</td>\n",
       "    </tr>\n",
       "    <tr>\n",
       "      <th>2</th>\n",
       "      <td>female</td>\n",
       "      <td>group B</td>\n",
       "      <td>master's degree</td>\n",
       "      <td>standard</td>\n",
       "      <td>none</td>\n",
       "      <td>1.622507</td>\n",
       "      <td>1.641039</td>\n",
       "      <td>0.798154</td>\n",
       "    </tr>\n",
       "    <tr>\n",
       "      <th>3</th>\n",
       "      <td>male</td>\n",
       "      <td>group A</td>\n",
       "      <td>associate's degree</td>\n",
       "      <td>free/reduced</td>\n",
       "      <td>none</td>\n",
       "      <td>-1.318716</td>\n",
       "      <td>-0.673400</td>\n",
       "      <td>-0.869784</td>\n",
       "    </tr>\n",
       "    <tr>\n",
       "      <th>4</th>\n",
       "      <td>male</td>\n",
       "      <td>group C</td>\n",
       "      <td>some college</td>\n",
       "      <td>standard</td>\n",
       "      <td>none</td>\n",
       "      <td>0.664899</td>\n",
       "      <td>0.605632</td>\n",
       "      <td>0.185442</td>\n",
       "    </tr>\n",
       "    <tr>\n",
       "      <th>5</th>\n",
       "      <td>female</td>\n",
       "      <td>group B</td>\n",
       "      <td>associate's degree</td>\n",
       "      <td>standard</td>\n",
       "      <td>none</td>\n",
       "      <td>0.322897</td>\n",
       "      <td>0.910163</td>\n",
       "      <td>0.287561</td>\n",
       "    </tr>\n",
       "    <tr>\n",
       "      <th>6</th>\n",
       "      <td>female</td>\n",
       "      <td>group B</td>\n",
       "      <td>some college</td>\n",
       "      <td>standard</td>\n",
       "      <td>completed</td>\n",
       "      <td>1.485706</td>\n",
       "      <td>1.641039</td>\n",
       "      <td>0.764115</td>\n",
       "    </tr>\n",
       "    <tr>\n",
       "      <th>7</th>\n",
       "      <td>male</td>\n",
       "      <td>group B</td>\n",
       "      <td>some college</td>\n",
       "      <td>free/reduced</td>\n",
       "      <td>none</td>\n",
       "      <td>-1.797520</td>\n",
       "      <td>-1.526088</td>\n",
       "      <td>-1.039981</td>\n",
       "    </tr>\n",
       "    <tr>\n",
       "      <th>8</th>\n",
       "      <td>male</td>\n",
       "      <td>group D</td>\n",
       "      <td>high school</td>\n",
       "      <td>free/reduced</td>\n",
       "      <td>completed</td>\n",
       "      <td>-0.155907</td>\n",
       "      <td>-0.247056</td>\n",
       "      <td>-0.086874</td>\n",
       "    </tr>\n",
       "    <tr>\n",
       "      <th>9</th>\n",
       "      <td>female</td>\n",
       "      <td>group B</td>\n",
       "      <td>high school</td>\n",
       "      <td>free/reduced</td>\n",
       "      <td>none</td>\n",
       "      <td>-1.934321</td>\n",
       "      <td>-0.490681</td>\n",
       "      <td>-0.665546</td>\n",
       "    </tr>\n",
       "  </tbody>\n",
       "</table>\n",
       "</div>"
      ],
      "text/plain": [
       "   gender race/ethnicity parental level of education         lunch  \\\n",
       "0  female        group B           bachelor's degree      standard   \n",
       "1  female        group C                some college      standard   \n",
       "2  female        group B             master's degree      standard   \n",
       "3    male        group A          associate's degree  free/reduced   \n",
       "4    male        group C                some college      standard   \n",
       "5  female        group B          associate's degree      standard   \n",
       "6  female        group B                some college      standard   \n",
       "7    male        group B                some college  free/reduced   \n",
       "8    male        group D                 high school  free/reduced   \n",
       "9  female        group B                 high school  free/reduced   \n",
       "\n",
       "  test preparation course  math score  reading score  writing score  \n",
       "0                    none    0.391297       0.240194       0.151403  \n",
       "1               completed    0.186096       1.336507       0.627957  \n",
       "2                    none    1.622507       1.641039       0.798154  \n",
       "3                    none   -1.318716      -0.673400      -0.869784  \n",
       "4                    none    0.664899       0.605632       0.185442  \n",
       "5                    none    0.322897       0.910163       0.287561  \n",
       "6               completed    1.485706       1.641039       0.764115  \n",
       "7                    none   -1.797520      -1.526088      -1.039981  \n",
       "8               completed   -0.155907      -0.247056      -0.086874  \n",
       "9                    none   -1.934321      -0.490681      -0.665546  "
      ]
     },
     "execution_count": 30,
     "metadata": {},
     "output_type": "execute_result"
    }
   ],
   "source": [
    "from sklearn.preprocessing import StandardScaler # -1 to 1\n",
    "scaler = StandardScaler()\n",
    "\n",
    "numeric_data=['math score','reading score','writing score']\n",
    "model=scaler.fit(data[numeric_data])\n",
    "data[numeric_data]=model.transform(data[numeric_data])\n",
    "\n",
    "data.head(10)"
   ]
  },
  {
   "cell_type": "code",
   "execution_count": 31,
   "id": "865289d9",
   "metadata": {},
   "outputs": [
    {
     "data": {
      "text/plain": [
       "array([[<AxesSubplot:title={'center':'math score'}>,\n",
       "        <AxesSubplot:title={'center':'reading score'}>],\n",
       "       [<AxesSubplot:title={'center':'writing score'}>, <AxesSubplot:>]],\n",
       "      dtype=object)"
      ]
     },
     "execution_count": 31,
     "metadata": {},
     "output_type": "execute_result"
    },
    {
     "data": {
      "image/png": "[encoded data removed]",
      "text/plain": [
       "<Figure size 432x288 with 4 Axes>"
      ]
     },
     "metadata": {
      "needs_background": "light"
     },
     "output_type": "display_data"
    }
   ],
   "source": [
    "data[numeric_data].hist()"
   ]
  }
 ],
 "metadata": {
  "kernelspec": {
   "display_name": "Python 3 (ipykernel)",
   "language": "python",
   "name": "python3"
  },
  "language_info": {
   "codemirror_mode": {
    "name": "ipython",
    "version": 3
   },
   "file_extension": ".py",
   "mimetype": "text/x-python",
   "name": "python",
   "nbconvert_exporter": "python",
   "pygments_lexer": "ipython3",
   "version": "3.10.9"
  }
 },
 "nbformat": 4,
 "nbformat_minor": 5
}
